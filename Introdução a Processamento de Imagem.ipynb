{
 "cells": [
  {
   "cell_type": "markdown",
   "metadata": {},
   "source": [
    "# Visão Computacional"
   ]
  },
  {
   "cell_type": "markdown",
   "metadata": {},
   "source": [
    "A Visão Computacional é a análise automática de imagens e vídeos por computadores, a fim de ganhar alguma compreensão do mundo. A visão computacional é inspirada nas capacidades do sistema de visão humana.\n",
    "No entanto, a razão pela qual pensamos / pensamos que a visão é fácil , é que nós temos nosso próprio sistema visual que faz a tarefa parecer intuitiva . Na verdade, o sistema visual humano é muito complexo e até mesmo as estimativas de quanto do cérebro está envolvido com o processamento visual variam de 25% até mais de 50%."
   ]
  },
  {
   "cell_type": "markdown",
   "metadata": {},
   "source": [
    "# Imagens"
   ]
  },
  {
   "cell_type": "markdown",
   "metadata": {},
   "source": [
    "As imagens são centrais para a visão computacional, pois são a representação que obtemos de dispositivos de imagem. eles nos fornecem uma representação da aparencia visual de uma cena , que podemos processar para aprimorar certas características de interesse ,antes de tentarmos abstrair informações.\n",
    "\n",
    "Imagens geralmente exibem algum grau de ruído que pode ser atenuado por várias imagens simples técnicas de processamento."
   ]
  },
  {
   "cell_type": "code",
   "execution_count": null,
   "metadata": {},
   "outputs": [],
   "source": []
  }
 ],
 "metadata": {
  "kernelspec": {
   "display_name": "Python 3",
   "language": "python",
   "name": "python3"
  },
  "language_info": {
   "codemirror_mode": {
    "name": "ipython",
    "version": 3
   },
   "file_extension": ".py",
   "mimetype": "text/x-python",
   "name": "python",
   "nbconvert_exporter": "python",
   "pygments_lexer": "ipython3",
   "version": "3.6.6"
  }
 },
 "nbformat": 4,
 "nbformat_minor": 2
}
